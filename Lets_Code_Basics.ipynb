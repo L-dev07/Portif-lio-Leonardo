{
  "nbformat": 4,
  "nbformat_minor": 0,
  "metadata": {
    "colab": {
      "provenance": [],
      "authorship_tag": "ABX9TyMeKCz1mNlj8VZ+pVEQQNbg",
      "include_colab_link": true
    },
    "kernelspec": {
      "name": "python3",
      "display_name": "Python 3"
    },
    "language_info": {
      "name": "python"
    }
  },
  "cells": [
    {
      "cell_type": "markdown",
      "metadata": {
        "id": "view-in-github",
        "colab_type": "text"
      },
      "source": [
        "<a href=\"https://colab.research.google.com/github/L-dev07/Portif-lio-Leonardo/blob/main/Lets_Code_Basics.ipynb\" target=\"_parent\"><img src=\"https://colab.research.google.com/assets/colab-badge.svg\" alt=\"Open In Colab\"/></a>"
      ]
    },
    {
      "cell_type": "code",
      "execution_count": null,
      "metadata": {
        "colab": {
          "base_uri": "https://localhost:8080/"
        },
        "id": "qEsJgBfewF39",
        "outputId": "a5a81656-f448-4aa3-a0b7-3ecbf3608a17"
      },
      "outputs": [
        {
          "output_type": "stream",
          "name": "stdout",
          "text": [
            "Hello World\n"
          ]
        }
      ],
      "source": [
        "print (\"Hello World\")"
      ]
    },
    {
      "cell_type": "code",
      "source": [
        "x = 5\n",
        "  "
      ],
      "metadata": {
        "id": "jwmbFK3mw8gt"
      },
      "execution_count": null,
      "outputs": []
    },
    {
      "cell_type": "code",
      "source": [
        "print(x)\n"
      ],
      "metadata": {
        "colab": {
          "base_uri": "https://localhost:8080/"
        },
        "id": "alPmeUwHxkHT",
        "outputId": "0e3c556b-6498-48b0-80fd-8ecffcf8f2ab"
      },
      "execution_count": null,
      "outputs": [
        {
          "output_type": "stream",
          "name": "stdout",
          "text": [
            "5\n"
          ]
        }
      ]
    },
    {
      "cell_type": "code",
      "source": [
        "print(type(x))"
      ],
      "metadata": {
        "colab": {
          "base_uri": "https://localhost:8080/"
        },
        "id": "D8KUhXHRx1b7",
        "outputId": "327a3571-5ee3-45c0-92aa-0b00050c9df0"
      },
      "execution_count": null,
      "outputs": [
        {
          "output_type": "stream",
          "name": "stdout",
          "text": [
            "<class 'int'>\n"
          ]
        }
      ]
    },
    {
      "cell_type": "code",
      "source": [
        "preco = 19.99"
      ],
      "metadata": {
        "id": "nRw6P7-dx1o6"
      },
      "execution_count": null,
      "outputs": []
    },
    {
      "cell_type": "code",
      "source": [
        "print(preco, type(preco))"
      ],
      "metadata": {
        "colab": {
          "base_uri": "https://localhost:8080/"
        },
        "id": "m2nt2sfRx1rb",
        "outputId": "e0222050-fd18-4ab3-a195-b0256d54b985"
      },
      "execution_count": null,
      "outputs": [
        {
          "output_type": "stream",
          "name": "stdout",
          "text": [
            "19.99 <class 'float'>\n"
          ]
        }
      ]
    },
    {
      "cell_type": "code",
      "source": [
        "cidade = \"sao Paulo\"\n",
        "print(cidade, type(cidade))"
      ],
      "metadata": {
        "colab": {
          "base_uri": "https://localhost:8080/"
        },
        "id": "_gVFa4yhx1uF",
        "outputId": "47fdbf09-545d-4040-a96c-07ba947ea5a2"
      },
      "execution_count": null,
      "outputs": [
        {
          "output_type": "stream",
          "name": "stdout",
          "text": [
            "sao Paulo <class 'str'>\n"
          ]
        }
      ]
    },
    {
      "cell_type": "code",
      "source": [
        "disponivel = True"
      ],
      "metadata": {
        "id": "noQ3cOTLx1wb"
      },
      "execution_count": null,
      "outputs": []
    },
    {
      "cell_type": "code",
      "source": [
        "disponivel = False\n",
        "print(disponivel, type(disponivel))\n",
        "\n"
      ],
      "metadata": {
        "colab": {
          "base_uri": "https://localhost:8080/"
        },
        "id": "wqQUF0R2yYJg",
        "outputId": "03e04ea9-2ffe-4129-e029-99ddba6d4ddd"
      },
      "execution_count": null,
      "outputs": [
        {
          "output_type": "stream",
          "name": "stdout",
          "text": [
            "False <class 'bool'>\n"
          ]
        }
      ]
    },
    {
      "cell_type": "code",
      "source": [
        "X = 50\n",
        "Y = 2"
      ],
      "metadata": {
        "id": "2-eylRBQyYLp"
      },
      "execution_count": 2,
      "outputs": []
    },
    {
      "cell_type": "code",
      "source": [
        "print(X + Y)\n",
        "print(X - Y)\n",
        "print(X * Y)\n",
        "print(X / Y)"
      ],
      "metadata": {
        "id": "UUeHud0fyYOU",
        "colab": {
          "base_uri": "https://localhost:8080/"
        },
        "outputId": "5c0b7b03-13ae-49d8-d966-362a6998634e"
      },
      "execution_count": 4,
      "outputs": [
        {
          "output_type": "stream",
          "name": "stdout",
          "text": [
            "52\n",
            "48\n",
            "100\n",
            "25.0\n"
          ]
        }
      ]
    },
    {
      "cell_type": "code",
      "source": [
        "print(X ** Y)\n",
        "print(X // Y)\n",
        "print(X % Y)\n"
      ],
      "metadata": {
        "id": "HyhpHbtYyYQc",
        "colab": {
          "base_uri": "https://localhost:8080/"
        },
        "outputId": "8e850bd8-0fef-49be-aa71-fe754127cb3d"
      },
      "execution_count": 6,
      "outputs": [
        {
          "output_type": "stream",
          "name": "stdout",
          "text": [
            "2500\n",
            "25\n",
            "0\n"
          ]
        }
      ]
    },
    {
      "cell_type": "code",
      "source": [
        "Tem_Cafe = True\n",
        "tem_pao = False"
      ],
      "metadata": {
        "id": "XrXZRAc5x1y6"
      },
      "execution_count": 7,
      "outputs": []
    },
    {
      "cell_type": "code",
      "source": [
        "print(not Tem_Cafe)\n",
        "print(Tem_Cafe or tem_pao)\n",
        "print(Tem_Cafe and tem_pao)"
      ],
      "metadata": {
        "id": "AcilHAeDx11H",
        "colab": {
          "base_uri": "https://localhost:8080/"
        },
        "outputId": "997975cf-4050-445a-8cff-e12377ec24e8"
      },
      "execution_count": 9,
      "outputs": [
        {
          "output_type": "stream",
          "name": "stdout",
          "text": [
            "False\n",
            "True\n",
            "False\n"
          ]
        }
      ]
    },
    {
      "cell_type": "code",
      "source": [
        "dolar = 5.3\n",
        "real = 1"
      ],
      "metadata": {
        "id": "TTGYsYPjx13j"
      },
      "execution_count": 10,
      "outputs": []
    },
    {
      "cell_type": "code",
      "source": [
        "print(dolar > real)\n",
        "print(dolar < real)\n",
        "print(dolar == real)\n",
        "print(dolar >= real)\n",
        "print(dolar <= real)\n",
        "print(dolar != real)"
      ],
      "metadata": {
        "colab": {
          "base_uri": "https://localhost:8080/"
        },
        "id": "M5A_VFZSdJMG",
        "outputId": "97e33c4a-fa7f-474e-9849-d883b0c93383"
      },
      "execution_count": 11,
      "outputs": [
        {
          "output_type": "stream",
          "name": "stdout",
          "text": [
            "True\n",
            "False\n",
            "False\n",
            "True\n",
            "False\n",
            "True\n"
          ]
        }
      ]
    },
    {
      "cell_type": "code",
      "source": [
        "idade = input('informe a sua idade: ')\n",
        "print(idade, type(idade))"
      ],
      "metadata": {
        "colab": {
          "base_uri": "https://localhost:8080/"
        },
        "id": "HQfu4y81dJOx",
        "outputId": "fcc1bd2b-6d1e-47b6-9e0c-1d9f6fcf0182"
      },
      "execution_count": 12,
      "outputs": [
        {
          "output_type": "stream",
          "name": "stdout",
          "text": [
            "informe a sua idade: 26\n",
            "26 <class 'str'>\n"
          ]
        }
      ]
    },
    {
      "cell_type": "code",
      "source": [
        "idade = int(idade)\n",
        "print(idade, type(idade))"
      ],
      "metadata": {
        "colab": {
          "base_uri": "https://localhost:8080/"
        },
        "id": "ElB93P-idJQs",
        "outputId": "7c6dfca4-bd4c-48c7-fac8-8b8a7a80a831"
      },
      "execution_count": 14,
      "outputs": [
        {
          "output_type": "stream",
          "name": "stdout",
          "text": [
            "26 <class 'int'>\n"
          ]
        }
      ]
    },
    {
      "cell_type": "code",
      "source": [
        "print(float('123.25'))\n",
        "print(str(123.25))\n",
        "print(bool(' '))"
      ],
      "metadata": {
        "colab": {
          "base_uri": "https://localhost:8080/"
        },
        "id": "Q3x97WCnfdZV",
        "outputId": "06e5306b-5149-41cc-c7f1-64e04362707d"
      },
      "execution_count": 17,
      "outputs": [
        {
          "output_type": "stream",
          "name": "stdout",
          "text": [
            "123.25\n",
            "123.25\n",
            "True\n"
          ]
        }
      ]
    },
    {
      "cell_type": "code",
      "source": [
        "salario_mensal = input('Digite o valor do seu salário mensal: ')\n",
        "salario_mensal = float(salario_mensal)\n",
        "\n",
        "gasto_mensal = input('Digite o valor do seu gasto mensal em média: ')\n",
        "gasto_mensal = float(gasto_mensal)\n",
        "\n",
        "salario_total = salario_mensal * 12\n",
        "gasto_mensal = gasto_mensal * 12\n",
        "\n",
        "montante_economizado = salario_total - gasto_mensal\n",
        "print('O montate que você pode economizar ao fim do ano é de', montante_economizado)"
      ],
      "metadata": {
        "colab": {
          "base_uri": "https://localhost:8080/"
        },
        "id": "eJzTeQQMfdb5",
        "outputId": "ee065862-c6ab-431c-ad4e-88bea9c9f05a"
      },
      "execution_count": 18,
      "outputs": [
        {
          "output_type": "stream",
          "name": "stdout",
          "text": [
            "Digite o valor do seu salário mensal: 5000\n",
            "Digite o valor do seu gasto mensal em média: 2000\n",
            "O montate que você pode economizar ao fim do ano é de 36000.0\n"
          ]
        }
      ]
    },
    {
      "cell_type": "code",
      "source": [],
      "metadata": {
        "id": "Roko-oGlfded"
      },
      "execution_count": null,
      "outputs": []
    },
    {
      "cell_type": "code",
      "source": [
        "valor_passagem = 4.30\n",
        "\n",
        "valor_corrida = input('Qual é o valor da corida?')\n",
        "valor_corrida = float(valor_corrida)\n",
        "\n",
        "if valor_corrida <= valor_passagem * 5:\n",
        "    print('Pague a Corrida')\n",
        "else:\n",
        "    print('Pague o ônibus')"
      ],
      "metadata": {
        "colab": {
          "base_uri": "https://localhost:8080/"
        },
        "id": "7VFseykzfdo0",
        "outputId": "4806d980-689c-4fb2-e8da-0fa506af084c"
      },
      "execution_count": 26,
      "outputs": [
        {
          "output_type": "stream",
          "name": "stdout",
          "text": [
            "Qual é o valor da corida?40\n",
            "Pague o ônibus\n"
          ]
        }
      ]
    },
    {
      "cell_type": "code",
      "source": [
        "valor_passagem = 4.30\n",
        "\n",
        "valor_corrida = input('Qual é o valor da corida?')\n",
        "valor_corrida = float(valor_corrida)\n",
        "\n",
        "if valor_corrida <= valor_passagem * 5:\n",
        "    print('Pague a Corrida')\n",
        "else:\n",
        "  if valor_corrida <= valor_passagem * 6:\n",
        "    print('Aguarde um momento, o valor pode abaixar')\n",
        "  else:\n",
        "    print('Pegue o ônibus')\n"
      ],
      "metadata": {
        "colab": {
          "base_uri": "https://localhost:8080/"
        },
        "id": "7nIxJ-Pgfdrb",
        "outputId": "ac86da47-3a1f-4cb3-e1d1-5cb10d0d061a"
      },
      "execution_count": 27,
      "outputs": [
        {
          "output_type": "stream",
          "name": "stdout",
          "text": [
            "Qual é o valor da corida?35\n",
            "Pegue o ônibus\n"
          ]
        }
      ]
    },
    {
      "cell_type": "code",
      "source": [
        "valor_passagem = 4.30\n",
        "\n",
        "valor_corrida = input('Qual é o valor da corida?')\n",
        "valor_corrida = float(valor_corrida)\n",
        "\n",
        "if valor_corrida <= valor_passagem * 5:\n",
        "    print('Pague a Corrida')\n",
        "elif valor_corrida <= valor_passagem * 6:\n",
        "    print('Aguarde um momento, o valor pode abaixar')\n",
        "else:\n",
        "    print('Pegue o ônibus')"
      ],
      "metadata": {
        "colab": {
          "base_uri": "https://localhost:8080/"
        },
        "id": "w_0Q7JTFfduf",
        "outputId": "03bb14aa-b831-4910-c919-84c0c969c846"
      },
      "execution_count": 29,
      "outputs": [
        {
          "output_type": "stream",
          "name": "stdout",
          "text": [
            "Qual é o valor da corida?23\n",
            "Aguarde um momento, o valor pode abaixar\n"
          ]
        }
      ]
    },
    {
      "cell_type": "code",
      "source": [],
      "metadata": {
        "id": "8cQSgfDQfdxN"
      },
      "execution_count": null,
      "outputs": []
    },
    {
      "cell_type": "code",
      "source": [
        "contador = 0\n",
        "\n",
        "while contador < 10 :\n",
        "    contador = contador + 1\n",
        "    if contador == 1:\n",
        "      print('item limpo')\n",
        "    else:\n",
        "      print(contador, 'itens limpos')\n",
        "\n",
        "print('fim da repetição do bloco while')"
      ],
      "metadata": {
        "colab": {
          "base_uri": "https://localhost:8080/"
        },
        "id": "z7SYqT40fdzx",
        "outputId": "e936ffb1-f1d7-4a9b-edff-3d84213c53e8"
      },
      "execution_count": 30,
      "outputs": [
        {
          "output_type": "stream",
          "name": "stdout",
          "text": [
            "item limpo\n",
            "2 itens limpos\n",
            "3 itens limpos\n",
            "4 itens limpos\n",
            "5 itens limpos\n",
            "6 itens limpos\n",
            "7 itens limpos\n",
            "8 itens limpos\n",
            "9 itens limpos\n",
            "10 itens limpos\n",
            "fim da repetição do bloco while\n"
          ]
        }
      ]
    },
    {
      "cell_type": "code",
      "source": [
        "contador = 0\n",
        "\n",
        "while True:\n",
        "  if contador < 10 :\n",
        "    contador = contador + 1\n",
        "    if contador == 1:\n",
        "      print('item limpo')\n",
        "    else:\n",
        "      print(contador, 'itens limpos')\n",
        "  else:\n",
        "      break\n",
        "\n",
        "print('fim da repetição do bloco while')"
      ],
      "metadata": {
        "colab": {
          "base_uri": "https://localhost:8080/"
        },
        "id": "Tdlhcn1J7EFa",
        "outputId": "ea9eb120-a4cd-45f0-d532-29dd0df08e8f"
      },
      "execution_count": 31,
      "outputs": [
        {
          "output_type": "stream",
          "name": "stdout",
          "text": [
            "item limpo\n",
            "2 itens limpos\n",
            "3 itens limpos\n",
            "4 itens limpos\n",
            "5 itens limpos\n",
            "6 itens limpos\n",
            "7 itens limpos\n",
            "8 itens limpos\n",
            "9 itens limpos\n",
            "10 itens limpos\n",
            "fim da repetição do bloco while\n"
          ]
        }
      ]
    },
    {
      "cell_type": "code",
      "source": [
        "texto = input('Digite a sua senha: ')\n",
        "\n",
        "while texto != 'LetsCode' :\n",
        "    texto = input('Senha inválida. Tente novamente')\n",
        "\n",
        "print(\"acesso permitido\")"
      ],
      "metadata": {
        "colab": {
          "base_uri": "https://localhost:8080/"
        },
        "id": "DiiJoG687EH4",
        "outputId": "3acb2376-8cc1-44c7-b080-917a3741ee0d"
      },
      "execution_count": 33,
      "outputs": [
        {
          "output_type": "stream",
          "name": "stdout",
          "text": [
            "Digite a sua senha: 12\n",
            "Senha inválida. Tente novamenteLetscode\n",
            "Senha inválida. Tente novamenteLetsCode\n",
            "acesso permitido\n"
          ]
        }
      ]
    },
    {
      "cell_type": "code",
      "source": [],
      "metadata": {
        "id": "evAM2o96fd2d"
      },
      "execution_count": null,
      "outputs": []
    },
    {
      "cell_type": "code",
      "source": [
        "contador = 0\n",
        "\n",
        "while contador < 10 :\n",
        "    contador = contador + 1\n",
        "    if contador == 1:\n",
        "      continue\n",
        "      print('itens limpo')\n",
        "    else:\n",
        "      print(contador, 'itens limpos')\n",
        "\n",
        "print('fim da repetição do bloco while')\n"
      ],
      "metadata": {
        "colab": {
          "base_uri": "https://localhost:8080/"
        },
        "id": "xGgXcKuIfd4-",
        "outputId": "24124dc5-606d-4eef-8c31-143e6657c4a1"
      },
      "execution_count": 34,
      "outputs": [
        {
          "output_type": "stream",
          "name": "stdout",
          "text": [
            "2 itens limpos\n",
            "3 itens limpos\n",
            "4 itens limpos\n",
            "5 itens limpos\n",
            "6 itens limpos\n",
            "7 itens limpos\n",
            "8 itens limpos\n",
            "9 itens limpos\n",
            "10 itens limpos\n",
            "fim da repetição do bloco while\n"
          ]
        }
      ]
    },
    {
      "cell_type": "code",
      "source": [],
      "metadata": {
        "id": "tCxk2P1Hfd8H"
      },
      "execution_count": null,
      "outputs": []
    },
    {
      "cell_type": "code",
      "source": [],
      "metadata": {
        "id": "Rn37uKd5fd-g"
      },
      "execution_count": null,
      "outputs": []
    }
  ]
}